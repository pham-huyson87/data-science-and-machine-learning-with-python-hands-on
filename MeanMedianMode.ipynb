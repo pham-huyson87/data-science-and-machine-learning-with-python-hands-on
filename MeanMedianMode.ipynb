{
 "cells": [
  {
   "cell_type": "code",
   "execution_count": 2,
   "metadata": {},
   "outputs": [
    {
     "data": {
      "text/plain": [
       "27102.16170402159"
      ]
     },
     "execution_count": 2,
     "metadata": {},
     "output_type": "execute_result"
    }
   ],
   "source": [
    "import numpy as np\n",
    "\n",
    "incomes = np.random.normal(27000, 15000, 10000)\n",
    "np.mean(incomes)"
   ]
  },
  {
   "cell_type": "code",
   "execution_count": 4,
   "metadata": {},
   "outputs": [
    {
     "data": {
      "image/png": "[encoded data removed]",
      "text/plain": [
       "<Figure size 432x288 with 1 Axes>"
      ]
     },
     "metadata": {
      "needs_background": "light"
     },
     "output_type": "display_data"
    }
   ],
   "source": [
    "%matplotlib inline\n",
    "import matplotlib.pyplot as plt\n",
    "\n",
    "plt.hist(incomes, 50)\n",
    "plt.show()"
   ]
  },
  {
   "cell_type": "code",
   "execution_count": 6,
   "metadata": {},
   "outputs": [
    {
     "data": {
      "text/plain": [
       "27102.16170402159"
      ]
     },
     "execution_count": 6,
     "metadata": {},
     "output_type": "execute_result"
    }
   ],
   "source": [
    "np.mean(incomes)"
   ]
  },
  {
   "cell_type": "code",
   "execution_count": 7,
   "metadata": {},
   "outputs": [
    {
     "data": {
      "text/plain": [
       "27157.968981649607"
      ]
     },
     "execution_count": 7,
     "metadata": {},
     "output_type": "execute_result"
    }
   ],
   "source": [
    "np.median(incomes)"
   ]
  },
  {
   "cell_type": "code",
   "execution_count": 8,
   "metadata": {},
   "outputs": [],
   "source": [
    "incomes = np.append(incomes, [1000000000])          # outlines impact the mean"
   ]
  },
  {
   "cell_type": "code",
   "execution_count": 9,
   "metadata": {},
   "outputs": [
    {
     "data": {
      "text/plain": [
       "127089.45275874573"
      ]
     },
     "execution_count": 9,
     "metadata": {},
     "output_type": "execute_result"
    }
   ],
   "source": [
    "np.mean(incomes)"
   ]
  },
  {
   "cell_type": "code",
   "execution_count": 10,
   "metadata": {},
   "outputs": [
    {
     "data": {
      "text/plain": [
       "27161.01873383588"
      ]
     },
     "execution_count": 10,
     "metadata": {},
     "output_type": "execute_result"
    }
   ],
   "source": [
    "np.median(incomes)"
   ]
  },
  {
   "cell_type": "code",
   "execution_count": 12,
   "metadata": {},
   "outputs": [
    {
     "data": {
      "text/plain": [
       "array([68, 35, 79, 21, 54, 58, 52, 45, 78, 49, 27, 71, 45, 32, 89, 47, 44,\n",
       "       84, 51, 26, 38, 42, 87, 44, 75, 80, 28, 46, 29, 35, 45, 31, 35, 39,\n",
       "       86, 30, 38, 22, 35, 20, 52, 63, 75, 80, 59, 69, 64, 66, 51, 19, 67,\n",
       "       24, 35, 67, 65, 79, 68, 42, 81, 71, 20, 64, 38, 67, 42, 52, 76, 47,\n",
       "       18, 65, 33, 49, 85, 25, 55, 25, 85, 77, 75, 21, 58, 81, 81, 77, 59,\n",
       "       21, 53, 59, 51, 68, 19, 44, 44, 48, 50, 66, 26, 52, 88, 54, 34, 87,\n",
       "       87, 75, 30, 26, 42, 87, 30, 37, 41, 49, 33, 58, 88, 65, 59, 40, 22,\n",
       "       50, 24, 84, 20, 85, 40, 35, 23, 29, 32, 34, 87, 57, 56, 40, 32, 27,\n",
       "       23, 48, 34, 82, 69, 58, 86, 20, 47, 89, 84, 60, 56, 86, 18, 64, 51,\n",
       "       52, 26, 46, 73, 88, 19, 77, 22, 22, 18, 63, 70, 65, 70, 58, 61, 42,\n",
       "       29, 48, 72, 74, 84, 57, 78, 20, 50, 88, 48, 71, 35, 68, 67, 28, 31,\n",
       "       28, 45, 77, 57, 67, 68, 74, 85, 84, 52, 45, 79, 31, 27, 80, 88, 49,\n",
       "       22, 65, 18, 22, 89, 34, 51, 59, 81, 67, 22, 81, 65, 79, 71, 77, 89,\n",
       "       48, 37, 22, 36, 55, 22, 89, 38, 70, 68, 18, 53, 70, 64, 74, 66, 57,\n",
       "       55, 60, 43, 44, 34, 60, 27, 25, 57, 44, 82, 49, 35, 64, 25, 42, 21,\n",
       "       32, 42, 79, 22, 61, 39, 75, 82, 49, 64, 80, 57, 89, 67, 39, 33, 31,\n",
       "       50, 79, 35, 47, 70, 39, 83, 45, 21, 44, 54, 28, 86, 79, 55, 43, 32,\n",
       "       23, 73, 38, 72, 44, 80, 61, 42, 70, 62, 63, 65, 21, 83, 88, 36, 47,\n",
       "       43, 31, 26, 61, 66, 64, 28, 47, 42, 66, 36, 79, 44, 46, 64, 64, 63,\n",
       "       53, 89, 47, 73, 32, 86, 43, 83, 76, 80, 53, 78, 77, 76, 31, 68, 33,\n",
       "       55, 24, 37, 31, 52, 76, 63, 88, 85, 48, 49, 61, 35, 69, 71, 37, 26,\n",
       "       34, 60, 33, 71, 70, 45, 46, 37, 41, 27, 82, 63, 35, 84, 51, 70, 47,\n",
       "       62, 34, 31, 84, 37, 22, 26, 26, 38, 81, 75, 39, 23, 51, 26, 81, 25,\n",
       "       54, 19, 85, 44, 60, 83, 84, 33, 54, 77, 80, 41, 60, 72, 80, 61, 86,\n",
       "       24, 48, 25, 42, 72, 75, 39, 23, 23, 57, 61, 63, 73, 44, 26, 23, 89,\n",
       "       22, 61, 79, 75, 51, 75, 47, 54, 37, 40, 53, 18, 63, 55, 36, 36, 52,\n",
       "       73, 72, 79, 68, 57, 57, 82, 70, 50, 83, 18, 63, 81, 74, 58, 86, 74,\n",
       "       53, 83, 71, 59, 76, 30, 88, 44, 31, 72, 25, 72, 86, 71, 27, 28, 61,\n",
       "       55, 76, 68, 77, 62, 80, 86, 32, 68, 27, 77, 86, 57, 54, 87, 34, 53,\n",
       "       79, 77, 22, 19, 89, 49, 57])"
      ]
     },
     "execution_count": 12,
     "metadata": {},
     "output_type": "execute_result"
    }
   ],
   "source": [
    "ages = np.random.randint(18, high=90, size=500)\n",
    "ages"
   ]
  },
  {
   "cell_type": "code",
   "execution_count": 13,
   "metadata": {},
   "outputs": [
    {
     "data": {
      "text/plain": [
       "ModeResult(mode=array([22]), count=array([13]))"
      ]
     },
     "execution_count": 13,
     "metadata": {},
     "output_type": "execute_result"
    }
   ],
   "source": [
    "from scipy import stats\n",
    "\n",
    "stats.mode(ages)"
   ]
  },
  {
   "cell_type": "code",
   "execution_count": null,
   "metadata": {},
   "outputs": [],
   "source": []
  }
 ],
 "metadata": {
  "kernelspec": {
   "display_name": "Python 3",
   "language": "python",
   "name": "python3"
  },
  "language_info": {
   "codemirror_mode": {
    "name": "ipython",
    "version": 3
   },
   "file_extension": ".py",
   "mimetype": "text/x-python",
   "name": "python",
   "nbconvert_exporter": "python",
   "pygments_lexer": "ipython3",
   "version": "3.7.1"
  }
 },
 "nbformat": 4,
 "nbformat_minor": 2
}
